{
 "cells": [
  {
   "cell_type": "code",
   "execution_count": 53,
   "id": "fcc4eecc",
   "metadata": {},
   "outputs": [],
   "source": [
    "# Tkinter kitabxanasından lazımi modulları daxil edirik\n",
    "import tkinter as tk  # GUI üçün əsas modul\n",
    "from tkinter import messagebox  # Mesaj qutuları üçün\n",
    "from tkinter import font as tkfont  # Xüsusi yazı stilləri üçün\n",
    "\n",
    "# Məhsul siyahısı (LC Waikiki üslubunda) - adlar və qiymətlər\n",
    "products = [\n",
    "    {\"name\": \"T-shirt\", \"price\": 20},\n",
    "    {\"name\": \"Jeans\", \"price\": 45},\n",
    "    {\"name\": \"Sweatshirt\", \"price\": 30},\n",
    "    {\"name\": \"Jacket\", \"price\": 60},\n",
    "    {\"name\": \"Shoes\", \"price\": 50},\n",
    "    {\"name\": \"Cap\", \"price\": 10},\n",
    "    {\"name\": \"Backpack\", \"price\": 35},\n",
    "    {\"name\": \"Scarf\", \"price\": 15},\n",
    "    {\"name\": \"Shorts\", \"price\": 25},\n",
    "    {\"name\": \"Socks\", \"price\": 5}\n",
    "]\n",
    "\n",
    "# # Əsas tətbiq pəncərəsini yaradırıq\n",
    "root = tk.Tk() # tkinter kitabxanasından yeni bir boş pəncərə yaradır.\n",
    "root.title(\"LC Waikiki - Məhsul Seçimi\")  # Pəncərə başlığı\n",
    "root.geometry(\"400x500\")  # İlkin pəncərə ölçüsü\n",
    "root.configure(bg=\"#f0f8ff\")  # Açıq mavi arxa fon\n",
    "\n",
    "# UI elementləri üçün xüsusi yazı stilləri\n",
    "title_font = tkfont.Font(family=\"Helvetica\", size=14, weight=\"bold\")  # Başlıq üçün\n",
    "product_font = tkfont.Font(family=\"Arial\", size=11)  # Məhsul siyahısı üçün\n",
    "button_font = tkfont.Font(family=\"Arial\", size=12, weight=\"bold\")  # Düymələr üçün\n",
    "\n",
    "# Əsas başlıq yaradırıq və göstəririk\n",
    "title_label = tk.Label(\n",
    "    root, \n",
    "    text=\"LC Waikiki Məhsulları\",  # Göstəriləcək mətn\n",
    "    font=title_font,  # Başlıq yazı stili\n",
    "    bg=\"#f0f8ff\",  # Pəncərə ilə eyni arxa fon\n",
    "    fg=\"#0066cc\"  # Tünd mavi mətn rəngi\n",
    ")\n",
    "title_label.pack(pady=(10, 20))  # Başlıq ətrafında boşluq\n",
    "\n",
    "\n",
    "# Seçim düymələri üçün dəyişənlər siyahısı (1=seçilib, 0=seçilməyib)\n",
    "check_vars = []\n",
    "for _ in products:\n",
    "    check_vars.append(tk.IntVar())  # Hər məhsul üçün IntVar yaradırıq\n",
    "\n",
    "# Hər məhsulu seçim düyməsi ilə göstəririk\n",
    "for i, product in enumerate(products):\n",
    "    # Hər məhsul üçün çərçivə yaradırıq\n",
    "    product_frame = tk.Frame(bg=\"#e6f2ff\", padx=10, pady=5)  # Açıq mavi arxa fon\n",
    "    product_frame.pack(padx=10, pady=2)  # Üfüqi boşluğu doldurur\n",
    "    \n",
    "    # Məhsul üçün seçim düyməsi yaradırıq\n",
    "    cb = tk.Checkbutton(\n",
    "        product_frame, \n",
    "        text=f\"{product['name']} - {product['price']} AZN\",  # Ad və qiymət\n",
    "        variable=check_vars[i],  # Uyğun IntVar-ə bağlayırıq\n",
    "        font=product_font,  # Məhsul yazı stili\n",
    "        bg=\"#e6f2ff\",  # Çərçivə ilə eyni arxa fon\n",
    "        activebackground=\"#e6f2ff\",  # Aktiv halda eyni arxa fon\n",
    "        anchor=\"w\"  # Mətni sola düzəltdir\n",
    "    )\n",
    "    cb.pack(fill=\"x\")  # Pəncərədə görsənsin və Üfüqi boşluğu doldurur\n",
    "\n",
    "# Seçilmiş məhsulları və qiymətlərini göstərən funksiya\n",
    "def show_prices():\n",
    "    selected = []  # Seçilmiş məhsullar üçün siyahı\n",
    "    for i, var in enumerate(check_vars):  # Hər məhsulun seçim düyməsini yoxlayırıq\n",
    "        if var.get() == 1:  # Əgər seçilibsə (dəyər 1)\n",
    "            selected.append(f\"{products[i]['name']}: {products[i]['price']} AZN\")  # Siyahıya əlavə et\n",
    "    \n",
    "    # Seçilmiş məhsulları və ya boş seçim xəbərdarlığını göstər\n",
    "    if selected:\n",
    "        messagebox.showinfo(\"Seçilmiş Məhsullar\", \"\\n\".join(selected))  # Siyahını göstər\n",
    "    else:\n",
    "        messagebox.showinfo(\"Boş Seçim\", \"Heç bir məhsul seçilməyib.\")  # Xəbərdarlıq göstər\n",
    "\n",
    "# Seçilmiş məhsulların ümumi qiymətini hesablayan və göstərən funksiya\n",
    "def show_total(event=None):\n",
    "    total = 0  # Ümumi qiymət\n",
    "    selected_items = []  # Seçilmiş məhsul adları üçün siyahı\n",
    "    \n",
    "    # Ümumi qiyməti hesabla və seçilmiş məhsulları topla\n",
    "    for i, var in enumerate(check_vars):\n",
    "        if var.get() == 1:  # Əgər məhsul seçilibsə\n",
    "            total += products[i]['price']  # Qiyməti ümumi məbləğə əlavə et\n",
    "            selected_items.append(products[i]['name'])  # Adı siyahıya əlavə et\n",
    "    \n",
    "    # Xülasə mesajını hazırla və göstər\n",
    "    if selected_items:\n",
    "        message = f\"Seçilmiş məhsullar:\\n\"\n",
    "        message += \"\\n\".join([f\"- {item}\" for item in selected_items])  # Məhsulları siyahıla\n",
    "        message += f\"\\n\\nÜmumi qiymət: {total} AZN\"  # Ümumi qiyməti əlavə et\n",
    "        messagebox.showinfo(\"Sifariş Xülasəsi\", message)  # Xülasəni göstər\n",
    "    else:\n",
    "        messagebox.showinfo(\"Xəbərdarlıq\", \"Heç bir məhsul seçilməyib!\")  # Xəbərdarlıq göstər\n",
    "\n",
    "# Alt hissədə düymələr üçün çərçivə yaradırıq\n",
    "button_frame = tk.Frame(root, bg=\"#f0f8ff\")  # Pəncərə ilə eyni arxa fon\n",
    "button_frame.pack(pady=20)  # Şaquli boşluq əlavə et\n",
    "\n",
    "# \"Seçilmişləri Göstər\" düyməsini yaradırıq\n",
    "price_btn = tk.Button(\n",
    "    button_frame, \n",
    "    text=\"Seçilmişləri Göstər\",  # Düymə mətni\n",
    "    command=show_prices,  # Kliklədikdə show_prices çağırılır\n",
    "    font=button_font,  # Düymə yazı stili\n",
    "    bg=\"#0099cc\",  # Mavi arxa fon\n",
    "    fg=\"white\",  # Ağ mətn\n",
    "    padx=15,  # Üfüqi boşluq\n",
    "    pady=5  # Şaquli boşluq\n",
    ")\n",
    "price_btn.grid(row=0, column=0, padx=10)  # Grid-də yerləşdir və boşluq əlavə et\n",
    "\n",
    "# \"Ümumi Cəm\" düyməsini yaradırıq\n",
    "total_btn = tk.Button(\n",
    "    button_frame, \n",
    "    text=\"Ümumi Cəm\",  # Düymə mətni\n",
    "    command=show_total,  # Kliklədikdə show_total çağırılır\n",
    "    font=button_font,  # Düymə yazı stili\n",
    "    bg=\"#ff6600\",  # Narıncı arxa fon\n",
    "    fg=\"white\",  # Ağ mətn\n",
    "    padx=15,  # Üfüqi boşluq\n",
    "    pady=5  # Şaquli boşluq\n",
    ")\n",
    "total_btn.grid(row=0, column=1, padx=10)  # Birinci düymənin yanında yerləşdir\n",
    "\n",
    "# Enter düyməsini show_total funksiyasına bağlayırıq\n",
    "root.bind('<Return>', show_total)\n",
    "\n",
    "# # Pəncərəni göstərmək və hadisələri emal etmək üçün əsas döngü\n",
    "root.mainloop()\n"
   ]
  },
  {
   "cell_type": "code",
   "execution_count": null,
   "id": "02690023",
   "metadata": {},
   "outputs": [],
   "source": []
  },
  {
   "cell_type": "code",
   "execution_count": null,
   "id": "b05e2404",
   "metadata": {},
   "outputs": [],
   "source": [
    "# Seçim düymələri üçün dəyişənlər siyahısı (1=seçilib, 0=seçilməyib)\n",
    "check_vars = []\n",
    "for _ in products:\n",
    "    check_vars.append(tk.IntVar())  # Hər məhsul üçün IntVar yaradırıq"
   ]
  },
  {
   "cell_type": "markdown",
   "id": "d9141923",
   "metadata": {},
   "source": [
    "Bu kod **məhsulların seçim statusunu saxlamaq** üçün dəyişənlər yaradır. Qısa və aydın izah:\n",
    "\n",
    "1. **`check_vars = []`** - Boş siyahı yaradırıq (seçimləri saxlamaq üçün)\n",
    "\n",
    "2. **`for _ in products:`** - Məhsul siyahısındakı hər bir element üçün dövr edirik\n",
    "   - `_` istifadə edirik, çünki dəyişənə ehtiyac yoxdur (sadəcə sayğac kimi)\n",
    "\n",
    "3. **`check_vars.append(tk.IntVar())`** - Hər məhsul üçün:\n",
    "   - `tk.IntVar()` - Tkinter-in xüsusi dəyişən növü yaradır (0 və ya 1 dəyərləri üçün)\n",
    "   - Bu dəyişənləri siyahıya əlavə edirik\n",
    "\n",
    "**NƏ İŞƏ YARAYIR?**\n",
    "- Hər bir məhsulun Checkbutton'unda (seçim qutusunda):\n",
    "  - Seçilibsə = 1\n",
    "  - Seçilməyibsə = 0\n",
    "- Bu dəyərlər avtomatik olaraq `IntVar` dəyişənlərində saxlanılır\n",
    "\n",
    "**NÜMUNƏ İSTİFADƏ:**\n",
    "```python\n",
    "# 3-cü məhsulun seçilib-seçilmədiyini yoxlamaq\n",
    "if check_vars[2].get() == 1:\n",
    "    print(\"3-cü məhsul seçilib\")\n",
    "else:\n",
    "    print(\"3-cü məhsul seçilməyib\")\n",
    "```\n",
    "\n",
    "**NİYƏ LAZIMDIR?**\n",
    "- Seçilmiş məhsulları izləmək üçün\n",
    "- Ümumi qiyməti hesablamaq üçün\n",
    "- Sifariş xülasəsini yaratmaq üçün\n",
    "\n",
    "Əslində bu, Tkinter-də Checkbutton-larla işləmək üçün standart üsuldur. Hər bir seçim qutusu belə bir dəyişənə bağlanır ki, sonradan onun statusunu oxumaq mümkün olsun."
   ]
  },
  {
   "cell_type": "code",
   "execution_count": null,
   "id": "3e3cf65d",
   "metadata": {},
   "outputs": [],
   "source": []
  },
  {
   "cell_type": "code",
   "execution_count": null,
   "id": "eea4330b",
   "metadata": {},
   "outputs": [],
   "source": [
    "# Hər məhsulu seçim düyməsi ilə göstəririk\n",
    "for i, product in enumerate(products):\n",
    "    # Hər məhsul üçün çərçivə yaradırıq\n",
    "    product_frame = tk.Frame(bg=\"#e6f2ff\", padx=10, pady=5)  # Açıq mavi arxa fon\n",
    "    product_frame.pack(padx=10, pady=2)  # Üfüqi boşluğu doldurur\n",
    "    \n",
    "    # Məhsul üçün seçim düyməsi yaradırıq\n",
    "    cb = tk.Checkbutton(\n",
    "        product_frame, \n",
    "        text=f\"{product['name']} - {product['price']} AZN\",  # Ad və qiymət\n",
    "        variable=check_vars[i],  # Uyğun IntVar-ə bağlayırıq\n",
    "        font=product_font,  # Məhsul yazı stili\n",
    "        bg=\"#e6f2ff\",  # Çərçivə ilə eyni arxa fon\n",
    "        activebackground=\"#e6f2ff\",  # Aktiv halda eyni arxa fon\n",
    "        anchor=\"w\"  # Mətni sola düzəltdir\n",
    "    )\n",
    "    cb.pack(fill=\"x\")  # Üfüqi boşluğu doldurur"
   ]
  },
  {
   "cell_type": "markdown",
   "id": "b0349b2c",
   "metadata": {},
   "source": [
    "Bu kod **hər bir məhsulu seçim qutusu (checkbox) ilə birlikdə ekranda göstərmək** üçün istifadə olunur. İşdə detallı izahat:\n",
    "\n",
    "### Əsas komponentlər:\n",
    "\n",
    "1. **`product_frame`**:\n",
    "   - Hər məhsul üçün ayrı bir çərçivə yaradır (#e6f2ff - açıq mavi rəng)\n",
    "   - `padx=10, pady=5` - İç boşluqlar (məhsullar arasında 5px, yanlarda 10px boşluq)\n",
    "   - `pack()` - Çərçivəni avtomatik yerləşdirir\n",
    "\n",
    "2. **`Checkbutton` (seçim qutusu)**:\n",
    "   - `text` - Məhsul adı və qiyməti (nüm.: \"T-shirt - 20 AZN\")\n",
    "   - `variable=check_vars[i]` - Əvvəl yaratdığımız seçim dəyişəninə bağlayır (0/1)\n",
    "   - `bg` və `activebackground` - Açıq mavi arxa fon (seçildikdə də eyni rəng)\n",
    "   - `anchor=\"w\"` - Mətni sola düzəldir (west - qərb)\n",
    "\n",
    "### Necə işləyir?\n",
    "\n",
    "1. `for` dövrü `products` siyahısındakı hər məhsul üçün işləyir\n",
    "2. Hər iterasiyada:\n",
    "   - Yeni çərçivə yaradılır (məhsul üçün \"qutu\")\n",
    "   - İçində Checkbutton yaradılır (seçim qutusu + məhsul məlumatı)\n",
    "   - Checkbutton öz çərçivəsinə yerləşdirilir\n",
    "\n",
    "### Nümunə çıxış:\n",
    "```\n",
    "[✓] T-shirt - 20 AZN\n",
    "[ ] Jeans - 45 AZN\n",
    "[✓] Sweatshirt - 30 AZN\n",
    "...\n",
    "```\n",
    "\n",
    "### Əhəmiyyəti:\n",
    "- İstifadəçiyə məhsulları seçmə imkanı verir\n",
    "- Gözəl və oxunaqlı interfeys yaradır\n",
    "- Seçimləri asanlıqla izləməyə imkan verir (check_vars ilə)\n",
    "\n",
    "Bu yanaşma Tkinter-də dinamik siyahılar yaratmaq üçün standart üsuldur. Hər yeni məhsul əlavə edildikdə avtomatik olaraq ekranda görünəcək."
   ]
  },
  {
   "cell_type": "code",
   "execution_count": null,
   "id": "8e3abab5",
   "metadata": {},
   "outputs": [],
   "source": []
  },
  {
   "cell_type": "code",
   "execution_count": null,
   "id": "ddca5564",
   "metadata": {},
   "outputs": [],
   "source": [
    "# Seçilmiş məhsulları və qiymətlərini göstərən funksiya\n",
    "def show_prices():\n",
    "    selected = []  # Seçilmiş məhsullar üçün siyahı\n",
    "    for i, var in enumerate(check_vars):  # Hər məhsulun seçim düyməsini yoxlayırıq\n",
    "        if var.get() == 1:  # Əgər seçilibsə (dəyər 1)\n",
    "            selected.append(f\"{products[i]['name']}: {products[i]['price']} AZN\")  # Siyahıya əlavə et\n",
    "    \n",
    "    # Seçilmiş məhsulları və ya boş seçim xəbərdarlığını göstər\n",
    "    if selected:\n",
    "        messagebox.showinfo(\"Seçilmiş Məhsullar\", \"\\n\".join(selected))  # Siyahını göstər\n",
    "    else:\n",
    "        messagebox.showinfo(\"Boş Seçim\", \"Heç bir məhsul seçilməyib.\")  # Xəbərdarlıq göstər"
   ]
  },
  {
   "cell_type": "markdown",
   "id": "6b39e392",
   "metadata": {},
   "source": [
    "Bu funksiya **seçilmiş məhsulların siyahısını və qiymətlərini göstərmək** üçün yazılıb. İşdə addım-addım izahat:\n",
    "\n",
    "1. **`selected = []`** - Boş siyahı yaradırıq (seçilmiş məhsulları saxlamaq üçün)\n",
    "\n",
    "2. **`for` dövrü**:\n",
    "   - `enumerate(check_vars)` - Hər məhsulun seçim statusunu yoxlamaq üçün\n",
    "   - `var.get() == 1` - Əgər checkbox seçilibsə (1 dəyəri alıbsa)\n",
    "\n",
    "3. **Seçilmiş məhsulları siyahıya əlavə etmə**:\n",
    "   - Format: \"Məhsul adı: qiyməti AZN\" (nümunə: \"T-shirt: 20 AZN\")\n",
    "   - `selected.append()` ilə siyahıya əlavə olunur\n",
    "\n",
    "4. **Nəticəni göstərmə**:\n",
    "   - Əgər siyahı boş deyilsə (`if selected`):\n",
    "     - `messagebox.showinfo()` ilə bütün seçilmiş məhsulları göstərir\n",
    "     - `\"\\n\".join(selected)` - Hər məhsulu yeni sətirdə göstərir\n",
    "   - Əgər heç nə seçilməyibsə:\n",
    "     - \"Heç bir məhsul seçilməyib\" xəbərdarlığını göstərir\n",
    "\n",
    "Nümunə çıxış:\n",
    "```\n",
    "Seçilmiş Məhsullar:\n",
    "T-shirt: 20 AZN\n",
    "Jeans: 45 AZN\n",
    "Sweatshirt: 30 AZN\n",
    "```\n",
    "\n",
    "Əsas məqsəd:\n",
    "- İstifadəçinin seçdiyi məhsulları aydın şəkildə göstərmək\n",
    "- Seçim olmadıqda xəbərdarlıq vermək\n",
    "- Sifarişə baxarkən yoxlama imkanı yaratmaq\n",
    "\n",
    "Bu funksiya \"Seçilmişləri Göstər\" düyməsinə basdıqda işə düşür və istifadəçiyə seçimlərini yoxlama imkanı verir."
   ]
  },
  {
   "cell_type": "code",
   "execution_count": null,
   "id": "72da2fed",
   "metadata": {},
   "outputs": [],
   "source": []
  },
  {
   "cell_type": "code",
   "execution_count": null,
   "id": "1d36eaf7",
   "metadata": {},
   "outputs": [],
   "source": [
    "# Seçilmiş məhsulların ümumi qiymətini hesablayan və göstərən funksiya\n",
    "def show_total(event=None):\n",
    "    total = 0  # Ümumi qiymət\n",
    "    selected_items = []  # Seçilmiş məhsul adları üçün siyahı\n",
    "    \n",
    "    # Ümumi qiyməti hesabla və seçilmiş məhsulları topla\n",
    "    for i, var in enumerate(check_vars):\n",
    "        if var.get() == 1:  # Əgər məhsul seçilibsə\n",
    "            total += products[i]['price']  # Qiyməti ümumi məbləğə əlavə et\n",
    "            selected_items.append(products[i]['name'])  # Adı siyahıya əlavə et\n",
    "    \n",
    "    # Xülasə mesajını hazırla və göstər\n",
    "    if selected_items:\n",
    "        message = f\"Seçilmiş məhsullar:\\n\"\n",
    "        message += \"\\n\".join([f\"- {item}\" for item in selected_items])  # Məhsulları siyahıla\n",
    "        message += f\"\\n\\nÜmumi qiymət: {total} AZN\"  # Ümumi qiyməti əlavə et\n",
    "        messagebox.showinfo(\"Sifariş Xülasəsi\", message)  # Xülasəni göstər\n",
    "    else:\n",
    "        messagebox.showinfo(\"Xəbərdarlıq\", \"Heç bir məhsul seçilməyib!\")  # Xəbərdarlıq göstər"
   ]
  },
  {
   "cell_type": "markdown",
   "id": "ddb9bb70",
   "metadata": {},
   "source": [
    "Bu funksiya **seçilmiş məhsulların ümumi qiymətini hesablayır və detallı sifariş xülasəsi göstərir**. İşdə tam izahat:\n",
    "\n",
    "### 1. Əsas Məqsəd:\n",
    "- Seçilmiş məhsulların siyahısını və cəmi qiymətini göstərmək\n",
    "- İstifadəçiyə sifarişi təsdiqləmədən əvvəl yoxlama imkanı vermək\n",
    "\n",
    "### 2. Necə İşləyir?\n",
    "```python\n",
    "def show_total(event=None):  # 'event' parametri Enter düyməsi üçündür\n",
    "    total = 0  # Ümumi qiymət (0-dan başlayır)\n",
    "    selected_items = []  # Seçilmiş məhsul adlarının siyahısı\n",
    "    \n",
    "    # Bütün məhsulları yoxlayırıq:\n",
    "    for i, var in enumerate(check_vars):\n",
    "        if var.get() == 1:  # Əgər checkbox seçilibsə\n",
    "            total += products[i]['price']  # Qiyməti ümumi məbləğə əlavə et\n",
    "            selected_items.append(products[i]['name'])  # Məhsul adını siyahıya əlavə et\n",
    "    \n",
    "    # Nəticəni hazırlayırıq:\n",
    "    if selected_items:  # Əgər seçim varsa\n",
    "        message = \"Seçilmiş məhsullar:\\n\"\n",
    "        message += \"\\n\".join([f\"- {item}\" for item in selected_items])  # Formatlı siyahı\n",
    "        message += f\"\\n\\nÜmumi qiymət: {total} AZN\"  # Ümumi məbləğ\n",
    "        messagebox.showinfo(\"Sifariş Xülasəsi\", message)  # Mesaj qutusunda göstər\n",
    "    else:  # Seçim yoxdursa\n",
    "        messagebox.showinfo(\"Xəbərdarlıq\", \"Heç bir məhsul seçilməyib!\")\n",
    "```\n",
    "\n",
    "### 3. Nümunə Çıxış:\n",
    "```\n",
    "Seçilmiş məhsullar:\n",
    "- T-shirt\n",
    "- Jeans\n",
    "- Backpack\n",
    "\n",
    "Ümumi qiymət: 100 AZN\n",
    "```\n",
    "\n",
    "### 4. Əsas Xüsusiyyətlər:\n",
    "- **`event=None`** - Funksiya həm düyməyə klikləmə, həm də Enter düyməsi ilə işə düşə bilər\n",
    "- **Dinamik hesablama** - Hər dəfə cari seçimlərə əsaslanır\n",
    "- **Formatlı çıxış** - Oxunaqlı və aydın təqdimat\n",
    "\n",
    "### 5. Əlavə Qeydlər:\n",
    "- `check_vars` siyahısındakı dəyərlər (1/0) seçimləri göstərir\n",
    "- `products` siyahısından məhsul adı və qiyməti götürülür\n",
    "- İstifadəçi heç nə seçməyibsə, xəbərdarlıq göstərilir\n",
    "\n",
    "Bu funksiya \"Ümumi Cəm\" düyməsinə və ya Enter düyməsinə basdıqda işə düşür və istifadəçiyə sifarişin yekun məbləğini göstərir."
   ]
  },
  {
   "cell_type": "code",
   "execution_count": null,
   "id": "77e88033",
   "metadata": {},
   "outputs": [],
   "source": []
  },
  {
   "cell_type": "code",
   "execution_count": null,
   "id": "76ec88af",
   "metadata": {},
   "outputs": [],
   "source": [
    "# # Alt hissədə düymələr üçün çərçivə yaradırıq\n",
    "button_frame = tk.Frame(root, bg=\"#f0f8ff\")  # Pəncərə ilə eyni arxa fon\n",
    "button_frame.pack(pady=20)  # Şaquli boşluq əlavə et"
   ]
  },
  {
   "cell_type": "markdown",
   "id": "64173080",
   "metadata": {},
   "source": [
    "Bu kod **pəncərənin alt hissəsində düymələr üçün xüsusi bir çərçivə (container) yaradır**. İşdə detallı izahat:\n",
    "\n",
    "### 1. Çərçivənin yaradılması:\n",
    "```python\n",
    "button_frame = tk.Frame(root, bg=\"#f0f8ff\")\n",
    "```\n",
    "- **`root`**: Əsas pəncərəyə (Tk()) aid olduğunu göstərir\n",
    "- **`bg=\"#f0f8ff\"`**: Açıq mavi arxa fon rəngi (pəncərə ilə eyni)\n",
    "- **`button_frame`**: Düymələri qruplaşdırmaq üçün \"qab\" rolunu oynayır\n",
    "\n",
    "### 2. Çərçivənin yerləşdirilməsi:\n",
    "```python\n",
    "button_frame.pack(pady=20)\n",
    "```\n",
    "- **`pack()`**: Çərçivəni avtomatik yerləşdirir\n",
    "- **`pady=20`**: Yuxarıdan və aşağıdan 20 piksel boşluq buraxır (şaquli boşluq)\n",
    "\n",
    "### 3. Niyə lazımdır?\n",
    "1. **Düymələri qruplaşdırmaq** üçün:\n",
    "   - \"Seçilmişləri Göstər\" və \"Ümumi Cəm\" düymələri bu çərçivəyə yerləşir\n",
    "   - Daha nizamlı görünüş yaradır\n",
    "\n",
    "2. **Dizayn üçün**:\n",
    "   - Digər elementlərdən (məhsul siyahısından) vizual ayrılıq yaradır\n",
    "   - Sabit bir yerdə (pəncərənin altında) qalmasını təmin edir\n",
    "\n",
    "3. **Boşluq idarəçiliyi**:\n",
    "   - `pady=20` parametri sayəsində məhsul siyahısı ilə düymələr arasında 20 piksel boşluq yaradır\n",
    "   - Daha oxunaqlı və estetik interfeys təmin edir\n",
    "\n",
    "### 4. Nümunə istifadə:\n",
    "```python\n",
    "# Düymələri çərçivəyə əlavə etmək:\n",
    "price_btn = tk.Button(button_frame, text=\"Seçilmişləri Göstər\")\n",
    "price_btn.pack(side=\"left\", padx=10)\n",
    "\n",
    "total_btn = tk.Button(button_frame, text=\"Ümumi Cəm\")\n",
    "total_btn.pack(side=\"left\")\n",
    "```\n",
    "\n",
    "### 5. Əgər bu çərçivə olmasaydı:\n",
    "- Düymələr birbaşa pəncərəyə əlavə olunardı\n",
    "- Məhsul siyahısı ilə düymələr arasında düzgün boşluq olmazdı\n",
    "- Düymələrin yerləşməsi daha çətin idarə olunardı\n",
    "\n",
    "Qısacası, bu çərçivə düymələrin təşkili və interfeysin vizual quruluşu üçün vacibdir."
   ]
  },
  {
   "cell_type": "code",
   "execution_count": null,
   "id": "7f7b41bb",
   "metadata": {},
   "outputs": [],
   "source": []
  },
  {
   "cell_type": "code",
   "execution_count": null,
   "id": "40535a0f",
   "metadata": {},
   "outputs": [],
   "source": [
    "# \"Seçilmişləri Göstər\" düyməsini yaradırıq\n",
    "price_btn = tk.Button(\n",
    "    button_frame, \n",
    "    text=\"Seçilmişləri Göstər\",  # Düymə mətni\n",
    "    command=show_prices,  # Kliklədikdə show_prices çağırılır\n",
    "    font=button_font,  # Düymə yazı stili\n",
    "    bg=\"#0099cc\",  # Mavi arxa fon\n",
    "    fg=\"white\",  # Ağ mətn\n",
    "    padx=15,  # Üfüqi boşluq\n",
    "    pady=5  # Şaquli boşluq\n",
    ")\n",
    "price_btn.grid(row=0, column=0, padx=10)  # Grid-də yerləşdir və boşluq əlavə et"
   ]
  },
  {
   "cell_type": "markdown",
   "id": "1d6429fd",
   "metadata": {},
   "source": [
    "Bu kod **\"Seçilmişləri Göstər\" adlı interaktiv düyməni yaradır və təyin edir**. İşdə tam izahat:\n",
    "\n",
    "### 1. Düymənin Yaradılması:\n",
    "```python\n",
    "price_btn = tk.Button(\n",
    "    button_frame,  # Düymənin yerləşəcəyi ata çərçivə (button_frame)\n",
    "    text=\"Seçilmişləri Göstər\",  # Düymədə görünəcək mətn\n",
    "    command=show_prices,  # Kliklədikdə işləyəcək funksiya\n",
    "    font=button_font,  # Əvvəldə təyin edilmiş yazı stili\n",
    "    bg=\"#0099cc\",  # Mavi arxa fon rəngi (hex kod)\n",
    "    fg=\"white\",  # Ağ mətn rəngi\n",
    "    padx=15,  # Düymə mətni ilə kənarlar arasında 15 piksel üfüqi boşluq\n",
    "    pady=5  # Düymə mətni ilə kənarlar arasında 5 piksel şaquli boşluq\n",
    ")\n",
    "```\n",
    "\n",
    "### 2. Düymənin Yerləşdirilməsi:\n",
    "```python\n",
    "price_btn.grid(row=0, column=0, padx=10)\n",
    "```\n",
    "- **`grid()`** metodu: Çərçivədə düzgün yerini təyin edir\n",
    "- **`row=0, column=0`**: Çərçivənin 0-cı sətrinə və 0-cı sütununa yerləşir\n",
    "- **`padx=10`**: Digər elementlərlə arasında 10 piksel üfüqi boşluq\n",
    "\n",
    "### 3. Əsas Xüsusiyyətlər:\n",
    "1. **Funksionalitet**:\n",
    "   - Kliklədikdə `show_prices()` funksiyasını çağırır\n",
    "   - Bu funksiya seçilmiş məhsulları siyahı halında göstərir\n",
    "\n",
    "2. **Dizayn**:\n",
    "   - Mavi arxa fon (#0099cc) və ağ mətn kombinasiyası\n",
    "   - Əvvəl təyin edilmiş `button_font` stili (Arial, 12pt, qalın)\n",
    "   - İç boşluqlar (padding) sayəsində daha oxunaqlı görünür\n",
    "\n",
    "3. **Yerləşdirmə**:\n",
    "   - `button_frame` çərçivəsinin sol üst hissəsində yerləşir\n",
    "   - Digər düymə ilə (Ümumi Cəm) arasında 10 piksel boşluq var\n",
    "\n",
    "### 4. Nümunə İşləmə Qaydası:\n",
    "1. İstifadəçi bəzi məhsulların yanındakı qutuları seçir (checkbox)\n",
    "2. Bu düyməyə kliklənir\n",
    "3. Sistem seçilmiş məhsulların ad və qiymətlərini mesaj qutusunda göstərir\n",
    "\n",
    "### 5. Əlavə Qeydlər:\n",
    "- `command=show_prices` parametri olmasaydı, düymə kliklənəndə heç nə etməzdi\n",
    "- `grid()` əvəzinə `pack()` də istifadə edilə bilərdi, lakin grid daha dəqiq yerləşdirmə üçün\n",
    "- Dizayn rəngləri LC Waikiki'nin rəng palitrasına uyğun seçilib\n",
    "\n",
    "Bu düymə istifadəçiyə seçimlərini yoxlama imkanı verən əsas interfeys elementidir."
   ]
  },
  {
   "cell_type": "code",
   "execution_count": null,
   "id": "90850a0d",
   "metadata": {},
   "outputs": [],
   "source": []
  },
  {
   "cell_type": "code",
   "execution_count": 46,
   "id": "f8dfa996",
   "metadata": {},
   "outputs": [
    {
     "data": {
      "text/plain": [
       "['idrak', 'Fatime', 5]"
      ]
     },
     "execution_count": 46,
     "metadata": {},
     "output_type": "execute_result"
    }
   ],
   "source": [
    "a"
   ]
  },
  {
   "cell_type": "code",
   "execution_count": null,
   "id": "d1940669",
   "metadata": {},
   "outputs": [],
   "source": []
  },
  {
   "cell_type": "code",
   "execution_count": 7,
   "id": "83f4a0ec",
   "metadata": {},
   "outputs": [],
   "source": [
    "a= [\"idrak\",'Fatime', 5]"
   ]
  },
  {
   "cell_type": "code",
   "execution_count": 8,
   "id": "d80ed7d1",
   "metadata": {},
   "outputs": [
    {
     "data": {
      "text/plain": [
       "[(0, 'idrak'), (1, 'Fatime'), (2, 5)]"
      ]
     },
     "execution_count": 8,
     "metadata": {},
     "output_type": "execute_result"
    }
   ],
   "source": [
    "list(enumerate(a))"
   ]
  },
  {
   "cell_type": "code",
   "execution_count": 10,
   "id": "c8053743",
   "metadata": {},
   "outputs": [],
   "source": [
    "b  = {\"name\": \"T-shirt\", \"price\": 20}"
   ]
  },
  {
   "cell_type": "code",
   "execution_count": 11,
   "id": "4a749026",
   "metadata": {},
   "outputs": [
    {
     "data": {
      "text/plain": [
       "{'name': 'T-shirt', 'price': 20}"
      ]
     },
     "execution_count": 11,
     "metadata": {},
     "output_type": "execute_result"
    }
   ],
   "source": [
    "b"
   ]
  },
  {
   "cell_type": "code",
   "execution_count": 12,
   "id": "2004a341",
   "metadata": {},
   "outputs": [
    {
     "data": {
      "text/plain": [
       "'T-shirt'"
      ]
     },
     "execution_count": 12,
     "metadata": {},
     "output_type": "execute_result"
    }
   ],
   "source": [
    "b[\"name\"]"
   ]
  },
  {
   "cell_type": "code",
   "execution_count": null,
   "id": "baaefa8a",
   "metadata": {},
   "outputs": [],
   "source": []
  },
  {
   "cell_type": "code",
   "execution_count": 23,
   "id": "828b5670",
   "metadata": {},
   "outputs": [],
   "source": [
    "x=5"
   ]
  },
  {
   "cell_type": "code",
   "execution_count": 25,
   "id": "e250fa15",
   "metadata": {},
   "outputs": [],
   "source": [
    "y=6"
   ]
  },
  {
   "cell_type": "code",
   "execution_count": 27,
   "id": "9ee4cfa0",
   "metadata": {},
   "outputs": [
    {
     "data": {
      "text/plain": [
       "11"
      ]
     },
     "execution_count": 27,
     "metadata": {},
     "output_type": "execute_result"
    }
   ],
   "source": [
    "cem = x+y\n",
    "cem"
   ]
  },
  {
   "cell_type": "code",
   "execution_count": 38,
   "id": "da1bac42",
   "metadata": {},
   "outputs": [],
   "source": [
    "def cem(x, y, z):\n",
    "    return (x+y)*z"
   ]
  },
  {
   "cell_type": "code",
   "execution_count": 36,
   "id": "aa045570",
   "metadata": {},
   "outputs": [
    {
     "ename": "TypeError",
     "evalue": "cem() missing 1 required positional argument: 'z'",
     "output_type": "error",
     "traceback": [
      "\u001b[1;31m---------------------------------------------------------------------------\u001b[0m",
      "\u001b[1;31mTypeError\u001b[0m                                 Traceback (most recent call last)",
      "Cell \u001b[1;32mIn[36], line 1\u001b[0m\n\u001b[1;32m----> 1\u001b[0m cem(\u001b[38;5;241m5\u001b[39m, \u001b[38;5;241m6\u001b[39m)\n",
      "\u001b[1;31mTypeError\u001b[0m: cem() missing 1 required positional argument: 'z'"
     ]
    }
   ],
   "source": [
    "cem(5, 6)"
   ]
  },
  {
   "cell_type": "code",
   "execution_count": 37,
   "id": "97eab8d8",
   "metadata": {},
   "outputs": [
    {
     "ename": "TypeError",
     "evalue": "cem() missing 1 required positional argument: 'z'",
     "output_type": "error",
     "traceback": [
      "\u001b[1;31m---------------------------------------------------------------------------\u001b[0m",
      "\u001b[1;31mTypeError\u001b[0m                                 Traceback (most recent call last)",
      "Cell \u001b[1;32mIn[37], line 1\u001b[0m\n\u001b[1;32m----> 1\u001b[0m cem(\u001b[38;5;241m7\u001b[39m, \u001b[38;5;241m8\u001b[39m)\n",
      "\u001b[1;31mTypeError\u001b[0m: cem() missing 1 required positional argument: 'z'"
     ]
    }
   ],
   "source": [
    "cem(7, 8)"
   ]
  },
  {
   "cell_type": "code",
   "execution_count": 39,
   "id": "7483786e",
   "metadata": {},
   "outputs": [
    {
     "data": {
      "text/plain": [
       "30"
      ]
     },
     "execution_count": 39,
     "metadata": {},
     "output_type": "execute_result"
    }
   ],
   "source": [
    "cem(7, 8, 2)"
   ]
  },
  {
   "cell_type": "code",
   "execution_count": null,
   "id": "eeb6d414",
   "metadata": {},
   "outputs": [],
   "source": []
  }
 ],
 "metadata": {
  "kernelspec": {
   "display_name": "Python 3 (ipykernel)",
   "language": "python",
   "name": "python3"
  },
  "language_info": {
   "codemirror_mode": {
    "name": "ipython",
    "version": 3
   },
   "file_extension": ".py",
   "mimetype": "text/x-python",
   "name": "python",
   "nbconvert_exporter": "python",
   "pygments_lexer": "ipython3",
   "version": "3.11.5"
  }
 },
 "nbformat": 4,
 "nbformat_minor": 5
}
